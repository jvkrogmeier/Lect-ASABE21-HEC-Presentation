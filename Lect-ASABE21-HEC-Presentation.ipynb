{
 "cells": [
  {
   "cell_type": "markdown",
   "metadata": {},
   "source": [
    "# Session: Instructional Case Studies with Data Sets for YOUR Instruction\n",
    "\n",
    "## Two-Week Introductory Python Module\n",
    "\n",
    "### J. V. Krogmeier, Purdue University\n",
    "\n",
    "## Outline of Talk\n",
    "\n",
    "1. USDA-NIFA: \"Computational Skills Development for Next Generation Agriscience Professionals for Sustaining Data Driven Agriculture\" \n",
    "\n",
    "     * PI: D. Saraswat (Purdue)\n",
    "     * Institutions: Tuskegee, Kentucky, Purdue\n",
    "     \n",
    "     \n",
    "2. Prerequisites and Learning Objectives\n",
    "\n",
    "3. Overview of the Two Week Sandwich Module\n",
    "\n",
    "4. Requirements to get the module working\n",
    "\n",
    "5. Sample of the Module\n",
    "\n",
    "6. First thoughts on how well it worked\n",
    "\n",
    "7. Acknowledgements\n",
    "\n",
    "\n"
   ]
  },
  {
   "cell_type": "markdown",
   "metadata": {},
   "source": [
    "## USDA-NIFA: \"Computational Skills Development for Next Generation Agriscience Professionals for Sustaining Data Driven Agriculture\""
   ]
  },
  {
   "cell_type": "markdown",
   "metadata": {},
   "source": [
    "### The Challenge Addressed:\n",
    "\n",
    "Educational institutions have not capitalized on **ag informatics** opportunities driving increased demand for data science/informatics graduates in the ag workforce.\n",
    "\n",
    "### Audience:\n",
    "\n",
    "Undergraduate students starting from first year. No prerequisite knowledge of programming to allow access to a large pool of students.\n",
    "\n",
    "## Target Objectives\n",
    "\n",
    "1.  Attract ag students to **ag informatics careers** and train them by development of ...\n",
    "\n",
    "    - One two-week course module (for incorporation into existing courses)\n",
    "    - Three semester long courses on software applications and computational skills\n",
    "    \n",
    "\n",
    "2. Provide a collaborative environment for building open source communities in agriculture via publication of videos, libraries, code, and course materials."
   ]
  },
  {
   "cell_type": "markdown",
   "metadata": {},
   "source": [
    "## Prerequisites and Learning Objectives\n",
    "\n",
    "1. Prerequisites = **NONE**\n",
    "\n",
    "2. Learning Objectives:\n",
    "\n",
    "    - Understand the elements of the python programming language (data types, program control, elementary packages -- math, numpy, matplotlib, file input-output)\n",
    "    - How to interface python with spreadsheets (csv read, etc.)\n",
    "    - How to do API calls from python\n",
    "    - Examples of statistical computations using python\n",
    "    - Visualization"
   ]
  },
  {
   "cell_type": "markdown",
   "metadata": {},
   "source": [
    "## Overview of the Two Week Sandwich Module\n",
    "\n",
    "There were two lecture sessions and one lab session in each week.\n",
    "\n",
    "### Week 1\n",
    "\n",
    "#### Lecture 1\n",
    "\n",
    "Variables (integers, floats, strings, booleans), data types (lists, dictionaries, etc.), conversions\n",
    "\n",
    "Control statements (`if-else`, `for`, `while`)\n",
    "\n",
    "`math`, `numpy`, `matplotlib` packages\n",
    "\n",
    "An example of computing field capacity (acres/hour) of an tractor-implement as a function of speed, implement width, and swath efficiency\n",
    "\n",
    "#### Lecture 2\n",
    "\n",
    "Files input and output\n",
    "\n",
    "Reading from a csv file\n",
    "\n",
    "Data wrangling and visualization on county average wheat yields (from USDA NASS)\n",
    "\n",
    "#### Lab 1\n",
    "\n",
    "Writing python code to implement certain excel calculations seen in previous lectures (i.e., before the 2 week module)\n",
    "\n",
    "Example coding of the chutes and ladders game implemented previously in excel\n",
    "\n",
    "\n",
    "### Week 2\n",
    "\n",
    "#### Lecture 3\n",
    "\n",
    "Visualization of the wheat yields data wrangling exercise\n",
    "\n",
    "`numpy` array slicing\n",
    "\n",
    "Looking for trends in county average wheat yields over time\n",
    "\n",
    "Mean, standard deviation, least-squares fitting of a line\n",
    "\n",
    "\n",
    "#### Lecture 4\n",
    "\n",
    "API calls with examples from `thedogapi` and `USDA NASS`\n",
    "\n",
    "Elementary mapping\n",
    "\n",
    "#### Lab 2\n",
    "\n",
    "Step by step examination of county average corn yields over time for a state of the student's choice. Solution skeleton given with blanks to fill in based on examining the code in the wheat yields example."
   ]
  },
  {
   "cell_type": "markdown",
   "metadata": {},
   "source": [
    "# What a student or instructor can do to get it working ...\n",
    "\n",
    "\n"
   ]
  },
  {
   "cell_type": "markdown",
   "metadata": {},
   "source": [
    "# Some Example Code"
   ]
  },
  {
   "cell_type": "markdown",
   "metadata": {},
   "source": [
    "## The Chutes and Ladders Game ...\n",
    "\n",
    "Prof. Buckmaster introduced the chutes and ladders game as an example of computing using Excel. The typical game board, containing 100 squares, is shown below."
   ]
  },
  {
   "cell_type": "markdown",
   "metadata": {},
   "source": [
    "<img align=\"left\" src='Figs-ASABE/Chutes&LaddersImage.png' width=\"300\"/>"
   ]
  },
  {
   "cell_type": "markdown",
   "metadata": {},
   "source": [
    "### Short version of the rules:\n",
    "\n",
    "1. Assume there are N players, who have been ordered according to the order in which they will play by some random means (e.g., by rolling the dice, drawing straws, etc.)\n",
    "\n",
    "2. Players all start at position 0.\n",
    "\n",
    "3. At time k (k = 0, 1, 2, ...) the positions of the N players are indicated by p_n(k) for n = 1, 2, 3, ..., N.\n",
    "\n",
    "4. Starting with player 1, each player throws a die and adds the value shown on the die to his position, i.e., p_1(k+1) = p_1(k) + {the roll of the die}. Then the player moves to that position on the board. If there is no chute or ladder at the new position, he remains there and his turn ends. On the other hand, if there is a chute or a ladder at the new position, the player must climb the ladder or fall down the chute as the case may be .... this change then yields the new position.\n",
    "\n",
    "5. The first player to reach position 100 exactly wins the game. If a player rolls the die and computes a new position that would take her past 100, then the roll is voided and she remains at her original position.\n",
    "\n",
    "### Following is a function which rolls the die and computes the new position of a player."
   ]
  },
  {
   "cell_type": "code",
   "execution_count": 1,
   "metadata": {},
   "outputs": [],
   "source": [
    "import math\n",
    "import numpy as np\n",
    "import matplotlib as mpl\n",
    "import matplotlib.pyplot as plt\n",
    "import random\n",
    "from random import Random\n",
    "\n",
    "random.seed(a=None,version=2)\n",
    "\n",
    "# This dictionary stores the chutes and ladders board.\n",
    "CandLTable = {1:38, 4:14, 9:31, 16:6, 21:42, 28:84, 36:44, 47:26, 49:11, 51:67,\n",
    "             56:53, 63:19, 64:60, 71:91, 80:100, 87:24, 93:73, 95:75, 98:78}\n",
    "\n",
    "# The function to make a move\n",
    "def CandL_make_a_move(position,CandLTable):\n",
    "    rand = Random(None)\n",
    "    roll = rand.randint(1, 6)\n",
    "    if position + roll > 100:\n",
    "        return position\n",
    "    position += roll\n",
    "    position = CandLTable.get(position, position)\n",
    "    return position\n"
   ]
  },
  {
   "cell_type": "code",
   "execution_count": 2,
   "metadata": {},
   "outputs": [
    {
     "data": {
      "text/plain": [
       "2"
      ]
     },
     "execution_count": 2,
     "metadata": {},
     "output_type": "execute_result"
    }
   ],
   "source": [
    "CandL_make_a_move(0,CandLTable)"
   ]
  },
  {
   "cell_type": "markdown",
   "metadata": {},
   "source": [
    "# Lab/HW Problem: Program Chutes and Ladders Game\n",
    "\n",
    "Write a program which plays a game between two people until one wins and produces a record of the game play.\n",
    "\n",
    "If you have time convert your single game code into a function and then write a program to play a large number of games one after another keeping a record of who won and how long the game lasted. Then compute statistics and/or histograms.\n",
    "\n",
    "Finally, if you still can't sleep explore how changes to the positions of chutes and ladders might change the game."
   ]
  },
  {
   "cell_type": "markdown",
   "metadata": {},
   "source": [
    "# Solution"
   ]
  },
  {
   "cell_type": "markdown",
   "metadata": {},
   "source": [
    "### Basic Game"
   ]
  },
  {
   "cell_type": "code",
   "execution_count": 3,
   "metadata": {},
   "outputs": [
    {
     "name": "stdout",
     "output_type": "stream",
     "text": [
      "Player 1 Wins!!\n"
     ]
    },
    {
     "data": {
      "text/plain": [
       "[<matplotlib.lines.Line2D at 0x11a437198>]"
      ]
     },
     "execution_count": 3,
     "metadata": {},
     "output_type": "execute_result"
    },
    {
     "data": {
      "image/png": "[encoded data removed]",
      "text/plain": [
       "<Figure size 432x288 with 1 Axes>"
      ]
     },
     "metadata": {
      "needs_background": "light"
     },
     "output_type": "display_data"
    }
   ],
   "source": [
    "P1 = np.array([0])\n",
    "P2 = np.array([0])\n",
    "\n",
    "p1 = 0\n",
    "p2 = 0\n",
    "\n",
    "while (p1 < 100 and p2 < 100):\n",
    "    p1 = CandL_make_a_move(p1, CandLTable)\n",
    "    p2 = CandL_make_a_move(p2, CandLTable)\n",
    "    P1 = np.append(P1, p1)\n",
    "    P2 = np.append(P2, p2)\n",
    "    if p1 == 100:\n",
    "        print('Player 1 Wins!!')\n",
    "    elif p2 == 100:\n",
    "        print('Player 2 Wins!!')\n",
    "\n",
    "# This simply plots the positions of the two players over the\n",
    "# course of the game.\n",
    "fig3 = plt.figure()\n",
    "plt.style.use('seaborn-dark-palette')\n",
    "plt.plot(P1,'*')\n",
    "plt.plot(P2,'+')"
   ]
  },
  {
   "cell_type": "markdown",
   "metadata": {},
   "source": [
    "### Playing many games"
   ]
  },
  {
   "cell_type": "code",
   "execution_count": 4,
   "metadata": {},
   "outputs": [
    {
     "name": "stdout",
     "output_type": "stream",
     "text": [
      "Average number of rounds per game is 26.33\n",
      "Player 1 won 53 of 100 games\n",
      "Player 2 won 47 of 100 games\n"
     ]
    },
    {
     "data": {
      "text/plain": [
       "(array([ 3.,  6.,  7.,  6.,  7.,  7., 12.,  6.,  8.,  3.,  6.,  4.,  5.,\n",
       "         1.,  3.,  4.,  3.,  0.,  1.,  1.,  0.,  1.,  1.,  1.,  1.,  1.,\n",
       "         0.,  1.,  0.,  1.]),\n",
       " array([ 7.        ,  9.16666667, 11.33333333, 13.5       , 15.66666667,\n",
       "        17.83333333, 20.        , 22.16666667, 24.33333333, 26.5       ,\n",
       "        28.66666667, 30.83333333, 33.        , 35.16666667, 37.33333333,\n",
       "        39.5       , 41.66666667, 43.83333333, 46.        , 48.16666667,\n",
       "        50.33333333, 52.5       , 54.66666667, 56.83333333, 59.        ,\n",
       "        61.16666667, 63.33333333, 65.5       , 67.66666667, 69.83333333,\n",
       "        72.        ]),\n",
       " <a list of 30 Patch objects>)"
      ]
     },
     "execution_count": 4,
     "metadata": {},
     "output_type": "execute_result"
    },
    {
     "data": {
      "image/png": "[encoded data removed]",
      "text/plain": [
       "<Figure size 432x288 with 1 Axes>"
      ]
     },
     "metadata": {
      "needs_background": "light"
     },
     "output_type": "display_data"
    }
   ],
   "source": [
    "# Convert game code to function\n",
    "\n",
    "def CandL_play_a_game(CandLTable):\n",
    "    p1 = 0\n",
    "    p2 = 0\n",
    "    Nmoves = 0\n",
    "    p1wins = 0\n",
    "    p2wins = 0\n",
    "    while (p1 < 100 and p2 < 100):\n",
    "        p1 = CandL_make_a_move(p1, CandLTable)\n",
    "        p2 = CandL_make_a_move(p2, CandLTable)\n",
    "        Nmoves += 1\n",
    "        if p1 == 100:\n",
    "            p1wins += 1\n",
    "        elif p2 == 100:\n",
    "            p2wins += 1\n",
    "    return Nmoves, p1wins, p2wins\n",
    "     \n",
    "Ngames = 100\n",
    "Np1wins = 0\n",
    "Np2wins = 0\n",
    "\n",
    "GameLengths = np.array([])\n",
    "\n",
    "for k in range(Ngames):\n",
    "    L = CandL_play_a_game(CandLTable)\n",
    "    Np1wins += L[1]\n",
    "    Np2wins += L[2]\n",
    "    GameLengths = np.append(GameLengths, L[0])\n",
    "\n",
    "print('Average number of rounds per game is {:.2f}'.format(np.mean(GameLengths)))\n",
    "print('Player 1 won {} of {} games'.format(Np1wins,Ngames))\n",
    "print('Player 2 won {} of {} games'.format(Np2wins,Ngames))\n",
    "\n",
    "plt.hist(GameLengths, bins=30)"
   ]
  },
  {
   "cell_type": "markdown",
   "metadata": {},
   "source": [
    "### Modify the table to see it's effect on the game ..."
   ]
  },
  {
   "cell_type": "code",
   "execution_count": 5,
   "metadata": {},
   "outputs": [
    {
     "name": "stdout",
     "output_type": "stream",
     "text": [
      "Average number of rounds per game is 82.80\n",
      "Player 1 won 56 of 100 games\n",
      "Player 2 won 44 of 100 games\n"
     ]
    },
    {
     "data": {
      "text/plain": [
       "(array([24., 20., 11., 13., 11.,  2.,  3.,  4.,  1.,  2.,  3.,  2.,  1.,\n",
       "         0.,  0.,  1.,  0.,  1.,  0.,  0.,  0.,  0.,  0.,  0.,  0.,  0.,\n",
       "         0.,  0.,  0.,  1.]),\n",
       " array([ 19.        ,  35.66666667,  52.33333333,  69.        ,\n",
       "         85.66666667, 102.33333333, 119.        , 135.66666667,\n",
       "        152.33333333, 169.        , 185.66666667, 202.33333333,\n",
       "        219.        , 235.66666667, 252.33333333, 269.        ,\n",
       "        285.66666667, 302.33333333, 319.        , 335.66666667,\n",
       "        352.33333333, 369.        , 385.66666667, 402.33333333,\n",
       "        419.        , 435.66666667, 452.33333333, 469.        ,\n",
       "        485.66666667, 502.33333333, 519.        ]),\n",
       " <a list of 30 Patch objects>)"
      ]
     },
     "execution_count": 5,
     "metadata": {},
     "output_type": "execute_result"
    },
    {
     "data": {
      "image/png": "[encoded data removed]",
      "text/plain": [
       "<Figure size 432x288 with 1 Axes>"
      ]
     },
     "metadata": {
      "needs_background": "light"
     },
     "output_type": "display_data"
    }
   ],
   "source": [
    "# This dictionary stores the chutes and ladders board.\n",
    "CandLTable2 = {4:14, 9:31, 16:6, 21:42, 36:44, 47:26, 49:11, 51:67,\n",
    "             56:53, 63:19, 64:60, 80:2, 87:24, 93:73, 95:75, 98:78}\n",
    "\n",
    "Ngames = 100\n",
    "Np1wins = 0\n",
    "Np2wins = 0\n",
    "\n",
    "GameLengths = np.array([])\n",
    "\n",
    "for k in range(Ngames):\n",
    "    L = CandL_play_a_game(CandLTable2)\n",
    "    Np1wins += L[1]\n",
    "    Np2wins += L[2]\n",
    "    GameLengths = np.append(GameLengths, L[0])\n",
    "    \n",
    "print('Average number of rounds per game is {:.2f}'.format(np.mean(GameLengths)))\n",
    "print('Player 1 won {} of {} games'.format(Np1wins,Ngames))\n",
    "print('Player 2 won {} of {} games'.format(Np2wins,Ngames))\n",
    "\n",
    "plt.hist(GameLengths, bins=30)"
   ]
  },
  {
   "cell_type": "markdown",
   "metadata": {},
   "source": [
    "# Lab/HW Problem: Wrangling County Average Corn Yield Data\n",
    "\n",
    "## In this Lab you will:\n",
    " - Get county average corn yield data for Indiana (or another state of interest)\n",
    " - Wrangle the data using Excel to delete columns of little or no interest (you could do it in Python but we need to save time)\n",
    " - Follow the example of the previous lecture to estimate the corn yield trend over time."
   ]
  },
  {
   "cell_type": "code",
   "execution_count": 6,
   "metadata": {},
   "outputs": [],
   "source": [
    "# Bring in the packages we have used before.\n",
    "\n",
    "import math\n",
    "import numpy as np\n",
    "import matplotlib as mpl\n",
    "import matplotlib.pyplot as plt\n",
    "import os"
   ]
  },
  {
   "cell_type": "markdown",
   "metadata": {},
   "source": [
    "## 1. Data\n",
    "To get some data for this exercise click on the link: <a href=\"https://quickstats.nass.usda.gov/\" target=\"_blank\">the USDA National Agricultural Statistics Service</a>. I'm using Indiana as an example below, but you are welcome to change it to Iowa, Illinois, Ohio, or name your state. There could, however, be some special cases that would have to be considered for different states.\n",
    "\n",
    "On the quick stats page you should select: Survey; Crops; Field Crops; Corn; Yield; Corn Grain - Yield, Measured in Bu/Acre; County; Indiana (leave unchecked the rest of the choices).\n",
    "\n",
    "Then click on the `get data` box at the bottom of the page. A spreadsheet should show up in the browser.\n",
    "\n",
    "Then click on the `Spreadsheet` towards the top right. This should download a `.csv` file somewhere on your computer or in the docker if you are running this on `mybinder.org`. It will have a nasty long name. Rename it to something convenient.\n",
    "\n",
    "If you are running on `mybinder.org` you will need to get this `.csv` onto your computer in order to use Excel.\n",
    "\n",
    "Use Excel to remove un-needed columns.\n",
    "\n",
    "Upload it to the directory `Lab2Data` in your fork of the \n",
    "<a href=\"https://github.com/jvkrogmeier/HEC-Lab-2\" target=\"_blank\">JVK github repo for HEC-Lab-2</a>.\n",
    "\n",
    "If you are already running in `mybinder.org` you will need to close and restart to have your `.csv` file available ..."
   ]
  },
  {
   "cell_type": "markdown",
   "metadata": {},
   "source": [
    "## 2. Name your file and put the name in here"
   ]
  },
  {
   "cell_type": "code",
   "execution_count": 7,
   "metadata": {},
   "outputs": [
    {
     "data": {
      "text/plain": [
       "'FigsData-ASABE/Wrangled-CornYields.csv'"
      ]
     },
     "execution_count": 7,
     "metadata": {},
     "output_type": "execute_result"
    }
   ],
   "source": [
    "# Replace Lab2Data/XXX.csv with Lab2Data/YourFileName.csv\n",
    "\n",
    "###my_file_name = 'Lab2Data/XXX.csv'\n",
    "\n",
    "my_file_name = 'FigsData-ASABE/Wrangled-CornYields.csv'\n",
    "\n",
    "my_file_name"
   ]
  },
  {
   "cell_type": "code",
   "execution_count": 8,
   "metadata": {},
   "outputs": [
    {
     "name": "stdout",
     "output_type": "stream",
     "text": [
      "Year,State,State ANSI,County,County ANSI,Value\n",
      "2020,INDIANA,18,BARTHOLOMEW,5,187.5\n",
      "2020,INDIANA,18,BOONE,11,221.9\n",
      "2020,INDIANA,18,CLINTON,23,207.1\n",
      "2020,INDIANA,18,DECATUR,31,209.5\n",
      "2020,INDIANA,18,GRANT,53,187.8\n",
      "2020,INDIANA,18,HAMILTON,57,188.7\n",
      "2020,INDIANA,18,HANCOCK,59,188.5\n",
      "2020,INDIANA,18,HENDRICKS,63,205.2\n",
      "2020,INDIANA,18,HOWARD,67,213.1\n",
      "2020,INDIANA,18,JOHNSON,81,184.2\n",
      "2020,INDIANA,18,MADISON,95,204.7\n",
      "2020,INDIANA,18,MARION,97,191.9\n",
      "2020,INDIANA,18,MORGAN,109,188\n",
      "2020,INDIANA,18,RUSH,139,201.9\n",
      "2020,INDIANA,18,SHELBY,145,191\n",
      "2020,INDIANA,18,TIPTON,159,216.7\n",
      "2020,INDIANA,18,BLACKFORD,9,187.9\n",
      "2020,INDIANA,18,DELAWARE,35,192\n",
      "2020,INDIANA,18,FAYETTE,41,191.5\n"
     ]
    }
   ],
   "source": [
    "# Just run this block which will open the wrangled file for reading \n",
    "# only and print the first few lines. What would you change in the \n",
    "# block below to see more or fewer lines?\n",
    "\n",
    "fin = open(my_file_name, \"r\")\n",
    "\n",
    "for i in range(20):\n",
    "    line = fin.readline()\n",
    "    print(line, end='')\n",
    "\n",
    "fin.close()"
   ]
  },
  {
   "cell_type": "markdown",
   "metadata": {},
   "source": [
    "## 3. Remove some unwanted non-counties\n",
    "\n",
    "There are some names in the County field that correspond to combinations of counties or such. First we need to read the entire file to see what unique county names are present. There are probably some combined counties that we will want to elimate. Since we are concentrating only on one state we don't need to keep that information ...\n",
    "\n",
    "Run the code below (and suitably modify where requested) to remove the undesired non-counties.\n",
    "\n",
    "In the code block below you need to modify the integer indices corresponding to the `Year` column and the `County` column in your csv file. I've set the variables to something that won't work. You need to change it."
   ]
  },
  {
   "cell_type": "code",
   "execution_count": 9,
   "metadata": {},
   "outputs": [],
   "source": [
    "# Open the wrangled file.\n",
    "\n",
    "fin = open(my_file_name, \"r\")\n",
    "line = fin.readline() #Read first line to move past header \n",
    "\n",
    "# Initialize some empty sets.\n",
    "years = set()\n",
    "counties = set()\n",
    "\n",
    "###yearindex = 59 #You must change this to get the code to work\n",
    "###countyindex = 137 #You must change this\n",
    "\n",
    "yearindex = 0\n",
    "countyindex = 3\n",
    "\n",
    "for line in fin:\n",
    "    fields = line.split(',')\n",
    "    yr = fields[yearindex].replace('\"', '')\n",
    "    years.add(yr)\n",
    "    c = fields[countyindex].replace('\"', '')\n",
    "    counties.add(c)\n",
    "                      \n",
    "fin.close()"
   ]
  },
  {
   "cell_type": "markdown",
   "metadata": {},
   "source": [
    "## Unique years, unique state_county_pairs\n",
    "The set variable `years` will contain the unique years for which we have data. Similarly the set variable `counties` contains the unique locations for which we have data."
   ]
  },
  {
   "cell_type": "code",
   "execution_count": 10,
   "metadata": {},
   "outputs": [
    {
     "name": "stdout",
     "output_type": "stream",
     "text": [
      "The number of unique years is 92.\n",
      "The set of years is {'1995', '1966', '1986', '1958', '1935', '2014', '1996', '1934', '1968', '2020', '1954', '2005', '1963', '1956', '1932', '1981', '1929', '2008', '1997', '1989', '2009', '1977', '2004', '1967', '1971', '1961', '1991', '2013', '1931', '2018', '2000', '2011', '2002', '1990', '1982', '1974', '1994', '1992', '1940', '2017', '2015', '2016', '1939', '1964', '1973', '1979', '1933', '2019', '1988', '1984', '1955', '2003', '1945', '1950', '1987', '1944', '1957', '1952', '1946', '1993', '2006', '1953', '1938', '1942', '1972', '1951', '1948', '1930', '1949', '1969', '1962', '1936', '1978', '2007', '1985', '2010', '1941', '1975', '2001', '1960', '1947', '1943', '1976', '1980', '1970', '2012', '1937', '1998', '1983', '1965', '1959', '1999'}.\n"
     ]
    }
   ],
   "source": [
    "N_unique_years = len(years)\n",
    "print('The number of unique years is {:2d}.'.format(N_unique_years))\n",
    "print('The set of years is {}.'.format(years))"
   ]
  },
  {
   "cell_type": "code",
   "execution_count": 11,
   "metadata": {},
   "outputs": [
    {
     "name": "stdout",
     "output_type": "stream",
     "text": [
      "The number of unique counties is 94.\n",
      "The set of counties is {'BOONE', 'WHITE', 'ELKHART', 'MARION', 'OTHER COUNTIES', 'VERMILLION', 'FOUNTAIN', 'RUSH', 'OTHER (COMBINED) COUNTIES', 'FULTON', 'JEFFERSON', 'DELAWARE', 'WASHINGTON', 'DEARBORN', 'HUNTINGTON', 'WAYNE', 'PIKE', 'CLINTON', 'LA PORTE', 'HENRY', 'BENTON', 'FAYETTE', 'MARTIN', 'DECATUR', 'WABASH', 'JAY', 'DE KALB', 'PORTER', 'MIAMI', 'CASS', 'HOWARD', 'JENNINGS', 'JASPER', 'GIBSON', 'OHIO', 'OWEN', 'SPENCER', 'CLAY', 'WARREN', 'DAVIESS', 'WHITLEY', 'NEWTON', 'TIPTON', 'BLACKFORD', 'STEUBEN', 'LAGRANGE', 'VANDERBURGH', 'BROWN', 'CRAWFORD', 'POSEY', 'HANCOCK', 'NOBLE', 'ORANGE', 'HAMILTON', 'PUTNAM', 'SCOTT', 'PARKE', 'TIPPECANOE', 'JOHNSON', 'GRANT', 'LAWRENCE', 'MONTGOMERY', 'MARSHALL', 'CLARK', 'ADAMS', 'KNOX', 'RIPLEY', 'SULLIVAN', 'PULASKI', 'FRANKLIN', 'CARROLL', 'MONROE', 'WELLS', 'DUBOIS', 'FLOYD', 'LAKE', 'KOSCIUSKO', 'SWITZERLAND', 'SHELBY', 'JACKSON', 'UNION', 'BARTHOLOMEW', 'WARRICK', 'MORGAN', 'ST. JOSEPH', 'PERRY', 'MADISON', 'ALLEN', 'RANDOLPH', 'STARKE', 'GREENE', 'VIGO', 'HENDRICKS', 'HARRISON'}.\n"
     ]
    }
   ],
   "source": [
    "N_unique_counties = len(counties)\n",
    "print('The number of unique counties is {:2d}.'.format(N_unique_counties))\n",
    "print('The set of counties is {}.'.format(counties))"
   ]
  },
  {
   "cell_type": "markdown",
   "metadata": {},
   "source": [
    "### Bad County Names\n",
    "There are a certain number of county names in the `counties` list, which are not real county names. Define text strings that contain the bad county names so that we can ignore them later. By looking at the set of unique counties printed above, find the names we want to ignore and put them into the string variables below. For the Indiana data there are two bad names. Other states may have more or less ...\n",
    "\n",
    "`BCN1` and `BCN2` are string variables. Don't forget the quotes."
   ]
  },
  {
   "cell_type": "code",
   "execution_count": 12,
   "metadata": {},
   "outputs": [],
   "source": [
    "# Bad county name 1, 2, 3 ... (BCN1, BCN2, etc)\n",
    "\n",
    "###BCN1 = Blah # You must change this\n",
    "###BCN2 = BlahBlah # You must change this\n",
    "\n",
    "BCN1 = 'OTHER COUNTIES'\n",
    "BCN2 = 'OTHER (COMBINED) COUNTIES'"
   ]
  },
  {
   "cell_type": "code",
   "execution_count": 13,
   "metadata": {},
   "outputs": [
    {
     "name": "stdout",
     "output_type": "stream",
     "text": [
      "The number of unique counties (before removal) is 94.\n",
      "The number of unique counties (after removal) is 92.\n"
     ]
    }
   ],
   "source": [
    "# Just to check \n",
    "\n",
    "print('The number of unique counties (before removal) is {:2d}.'.format(N_unique_counties))\n",
    "\n",
    "# Remove the bad county names ...\n",
    "counties.remove(BCN1)\n",
    "counties.remove(BCN2)\n",
    "\n",
    "N_unique_counties = len(counties)\n",
    "\n",
    "print('The number of unique counties (after removal) is {:2d}.'.format(N_unique_counties))"
   ]
  },
  {
   "cell_type": "markdown",
   "metadata": {},
   "source": [
    "## 4. Convert the Sets to Lists and Sort\n",
    "We originally used sets to hold the `years` and `counties` data in order to impose uniqueness since sets never have duplicate elements. Therefore, when we were originally reading the data if the same year or same state-county pair was read multiple times (and they were), then we would automatically avoid adding duplicates.\n",
    "\n",
    "Finally, we convert the sets to lists in order to sort them. We particularly want the `years` variable ordered numerically increasing."
   ]
  },
  {
   "cell_type": "code",
   "execution_count": 14,
   "metadata": {},
   "outputs": [
    {
     "name": "stdout",
     "output_type": "stream",
     "text": [
      "['1929', '1930', '1931', '1932', '1933', '1934', '1935', '1936', '1937', '1938', '1939', '1940', '1941', '1942', '1943', '1944', '1945', '1946', '1947', '1948', '1949', '1950', '1951', '1952', '1953', '1954', '1955', '1956', '1957', '1958', '1959', '1960', '1961', '1962', '1963', '1964', '1965', '1966', '1967', '1968', '1969', '1970', '1971', '1972', '1973', '1974', '1975', '1976', '1977', '1978', '1979', '1980', '1981', '1982', '1983', '1984', '1985', '1986', '1987', '1988', '1989', '1990', '1991', '1992', '1993', '1994', '1995', '1996', '1997', '1998', '1999', '2000', '2001', '2002', '2003', '2004', '2005', '2006', '2007', '2008', '2009', '2010', '2011', '2012', '2013', '2014', '2015', '2016', '2017', '2018', '2019', '2020']\n",
      "\n",
      "['ADAMS', 'ALLEN', 'BARTHOLOMEW', 'BENTON', 'BLACKFORD', 'BOONE', 'BROWN', 'CARROLL', 'CASS', 'CLARK', 'CLAY', 'CLINTON', 'CRAWFORD', 'DAVIESS', 'DE KALB', 'DEARBORN', 'DECATUR', 'DELAWARE', 'DUBOIS', 'ELKHART', 'FAYETTE', 'FLOYD', 'FOUNTAIN', 'FRANKLIN', 'FULTON', 'GIBSON', 'GRANT', 'GREENE', 'HAMILTON', 'HANCOCK', 'HARRISON', 'HENDRICKS', 'HENRY', 'HOWARD', 'HUNTINGTON', 'JACKSON', 'JASPER', 'JAY', 'JEFFERSON', 'JENNINGS', 'JOHNSON', 'KNOX', 'KOSCIUSKO', 'LA PORTE', 'LAGRANGE', 'LAKE', 'LAWRENCE', 'MADISON', 'MARION', 'MARSHALL', 'MARTIN', 'MIAMI', 'MONROE', 'MONTGOMERY', 'MORGAN', 'NEWTON', 'NOBLE', 'OHIO', 'ORANGE', 'OWEN', 'PARKE', 'PERRY', 'PIKE', 'PORTER', 'POSEY', 'PULASKI', 'PUTNAM', 'RANDOLPH', 'RIPLEY', 'RUSH', 'SCOTT', 'SHELBY', 'SPENCER', 'ST. JOSEPH', 'STARKE', 'STEUBEN', 'SULLIVAN', 'SWITZERLAND', 'TIPPECANOE', 'TIPTON', 'UNION', 'VANDERBURGH', 'VERMILLION', 'VIGO', 'WABASH', 'WARREN', 'WARRICK', 'WASHINGTON', 'WAYNE', 'WELLS', 'WHITE', 'WHITLEY']\n"
     ]
    }
   ],
   "source": [
    "# Convert them to lists. You need to replace XXX with the correct Python\n",
    "# command to convert the sets to lists.\n",
    "\n",
    "###years = XXX(years) # You must change this\n",
    "###counties = XXX(counties) # You must change this\n",
    "\n",
    "years = list(years)\n",
    "counties = list(counties)\n",
    "\n",
    "# Sort the years and counties lists. This is done so that we\n",
    "# can refer to the data in the numpy array and have the order there\n",
    "# correspond to the counties and year of interest.\n",
    "\n",
    "# Two commands need to be run here in order to sort the years \n",
    "# and counties lists ...\n",
    "\n",
    "###put command 1 here\n",
    "###put command 2 here\n",
    "\n",
    "years.sort()\n",
    "counties.sort()\n",
    "\n",
    "# Print just to see what the ordering looks like\n",
    "print(years)\n",
    "print()\n",
    "print(counties)"
   ]
  },
  {
   "cell_type": "markdown",
   "metadata": {},
   "source": [
    "## 5. Create the `isdata` and `ydata` arrays\n",
    "Run the code blocks below (modify as needed) to create a numpy array that contains the information about whether a particular (county, year) has data in your file. The array will have rows indexed by county and columns indexed by year.\n",
    "\n",
    "You will also define an array `ydata` to contain the yield data. "
   ]
  },
  {
   "cell_type": "code",
   "execution_count": 15,
   "metadata": {},
   "outputs": [],
   "source": [
    "# The variable \"isdata\" is initialized with zeros. When a one appears\n",
    "# at a particular row and column it indicates that the corresponding\n",
    "# county and year has yield data.\n",
    "\n",
    "isdata = np.zeros((len(counties), len(years)))\n",
    "\n",
    "# The variable \"ydata\" is also initialized with zeros.\n",
    "\n",
    "ydata = np.zeros((len(counties), len(years)))"
   ]
  },
  {
   "cell_type": "markdown",
   "metadata": {},
   "source": [
    "## Populating data into `isdata` and `ydata`\n",
    "The next cell reads data from the `Lab2Data/XXX.csv` file and populates the numpy arrays `isdata` and `ydata`. Remember these two arrays were initialized as all zeros.\n",
    "\n",
    "Below we will use the `index()` method, which returns the numeric index of the first occurrence of an item in a list. We made our `counties` and `years` lists to have unique items."
   ]
  },
  {
   "cell_type": "code",
   "execution_count": 16,
   "metadata": {},
   "outputs": [],
   "source": [
    "# Open the wrangled file.\n",
    "\n",
    "fin = open(my_file_name, \"r\")\n",
    "line = fin.readline() #Read first line to move past header \n",
    "\n",
    "# The year values are located in the column indexed by yearindex\n",
    "# which you set in a previous cell. = County values in the fourth \n",
    "# are indexed by countyindex, also set previously. You now need to\n",
    "# set the variable yieldindex to refer to the column of the csv\n",
    "# file which contains County average yield values.\n",
    "\n",
    "###yieldindex = 11 #You must change this to get the code to work\n",
    "\n",
    "yieldindex = 5\n",
    "\n",
    "# Note how we use the python method .index in order to properly\n",
    "# align the data values in the numpy arrays with the list values\n",
    "# in years and state_county_pairs.\n",
    "\n",
    "for line in fin:\n",
    "    fields = line.split(',') #Separate line into individual items\n",
    "    yr = fields[yearindex].replace('\"', '') #Delete extra double quotes\n",
    "    c = fields[countyindex].replace('\"', '') #Delete extra double quotes\n",
    "    if c in counties:\n",
    "        rindex = counties.index(c)\n",
    "        cindex = years.index(yr)\n",
    "        isdata[rindex, cindex] = 1 #Insert \"1\" into isdata in proper place\n",
    "        yd = fields[yieldindex]\n",
    "        yd = yd.replace('\\n', '') #Delete newline character at the end\n",
    "        yd = yd.replace('\"', '') #Delete extra double quotes\n",
    "        ydata[rindex, cindex] = float(yd) #Insert a numeric yield value in the proper place\n",
    "                      \n",
    "fin.close()"
   ]
  },
  {
   "cell_type": "markdown",
   "metadata": {},
   "source": [
    "## 6. The `if c in counties:` block was not used in the Lecture 3 code. Why is it needed here and not there?"
   ]
  },
  {
   "cell_type": "code",
   "execution_count": 17,
   "metadata": {},
   "outputs": [
    {
     "name": "stdout",
     "output_type": "stream",
     "text": [
      "[[ 29.2  42.9  40.9 ... 194.5 170.1 179.9]\n",
      " [ 33.3  38.7  38.9 ... 181.7 181.4 165.2]\n",
      " [ 31.9  15.   43.9 ... 189.3   0.  187.5]\n",
      " ...\n",
      " [ 26.   43.   45.9 ... 204.1   0.  188.5]\n",
      " [ 28.6  34.3  39.  ... 196.9 177.6 178.5]\n",
      " [ 39.3  33.2  39.  ... 180.7 174.  159.6]]\n"
     ]
    }
   ],
   "source": [
    "# Just to look at the array\n",
    "print(ydata)"
   ]
  },
  {
   "cell_type": "code",
   "execution_count": 18,
   "metadata": {},
   "outputs": [
    {
     "name": "stdout",
     "output_type": "stream",
     "text": [
      "[[1. 1. 1. ... 1. 1. 1.]\n",
      " [1. 1. 1. ... 1. 1. 1.]\n",
      " [1. 1. 1. ... 1. 0. 1.]\n",
      " ...\n",
      " [1. 1. 1. ... 1. 0. 1.]\n",
      " [1. 1. 1. ... 1. 1. 1.]\n",
      " [1. 1. 1. ... 1. 1. 1.]]\n"
     ]
    }
   ],
   "source": [
    "# Just to look at the array\n",
    "print(isdata)"
   ]
  },
  {
   "cell_type": "code",
   "execution_count": 19,
   "metadata": {},
   "outputs": [],
   "source": [
    "# Just run this code, which prepares a meshgrid for contour plots ...\n",
    "iyrs = range(len(isdata[0,:]))\n",
    "iscprs = range(len(isdata[:,0]))\n",
    "IYRS, ISCPRS = np.meshgrid(iyrs,iscprs)\n",
    "\n",
    "# Defining a function to evaluate values from isdata\n",
    "def ID(x,y):\n",
    "    return isdata[x,y]\n",
    "\n",
    "# Evaluate on the mesh\n",
    "Z = ID(ISCPRS,IYRS)"
   ]
  },
  {
   "cell_type": "code",
   "execution_count": 20,
   "metadata": {},
   "outputs": [
    {
     "data": {
      "text/plain": [
       "Text(0.5, 1.0, 'Data Available (green = have data, blue = no data)')"
      ]
     },
     "execution_count": 20,
     "metadata": {},
     "output_type": "execute_result"
    },
    {
     "data": {
      "image/png": "[encoded data removed]",
      "text/plain": [
       "<Figure size 432x288 with 1 Axes>"
      ]
     },
     "metadata": {
      "needs_background": "light"
     },
     "output_type": "display_data"
    }
   ],
   "source": [
    "# Make filled contour plot and label axes, etc. ...\n",
    "plt.contourf(IYRS,ISCPRS,Z, cmap='winter');\n",
    "plt.ylabel('Indices of counties')\n",
    "plt.xlabel('Indices of years (starting from 1929)')\n",
    "plt.title('Data Available (green = have data, blue = no data)')"
   ]
  },
  {
   "cell_type": "code",
   "execution_count": 21,
   "metadata": {},
   "outputs": [
    {
     "data": {
      "text/plain": [
       "<matplotlib.colorbar.Colorbar at 0x11d54e128>"
      ]
     },
     "execution_count": 21,
     "metadata": {},
     "output_type": "execute_result"
    },
    {
     "data": {
      "image/png": "[encoded data removed]",
      "text/plain": [
       "<Figure size 432x288 with 2 Axes>"
      ]
     },
     "metadata": {
      "needs_background": "light"
     },
     "output_type": "display_data"
    }
   ],
   "source": [
    "# Repeat only for the actual county average yield values\n",
    "def Y(x,y):\n",
    "    return ydata[x,y]\n",
    "Z = Y(ISCPRS,IYRS)\n",
    "\n",
    "plt.contourf(IYRS,ISCPRS,Z, cmap='YlOrRd');\n",
    "plt.ylabel('Indices of counties')\n",
    "plt.xlabel('Indices of years (starting from 1929)')\n",
    "plt.title('County average yield (bushels/acre)')\n",
    "plt.colorbar()"
   ]
  },
  {
   "cell_type": "code",
   "execution_count": 22,
   "metadata": {},
   "outputs": [
    {
     "name": "stdout",
     "output_type": "stream",
     "text": [
      "Fraction of unavailable data is 0.02\n"
     ]
    }
   ],
   "source": [
    "frac = (len(isdata[0,:])*len(isdata[:,0]) - sum(sum(isdata)))/(len(isdata[0,:])*len(isdata[:,0]))\n",
    "\n",
    "print('Fraction of unavailable data is {:.2f}'.format(frac))"
   ]
  },
  {
   "cell_type": "markdown",
   "metadata": {},
   "source": [
    "## 7. What is the first thing you notice when comparing the situation with Indiana corn yield data with wheat yield data as in the Lect 2 code?"
   ]
  },
  {
   "cell_type": "markdown",
   "metadata": {},
   "source": [
    "## 8. Some of the Indiana counties have complete yield data (i.e., for every one of the 92 years). Run the code blocks below to find out which counties they are."
   ]
  },
  {
   "cell_type": "code",
   "execution_count": 23,
   "metadata": {},
   "outputs": [],
   "source": [
    "# Initialize a vector to hold info about which counties contain\n",
    "# data for every year. Then sequentially multiply all\n",
    "# of the columns together.\n",
    "all = np.ones(len(counties))\n",
    "\n",
    "for i in range(len(years)):\n",
    "    all = all*isdata[:,i]"
   ]
  },
  {
   "cell_type": "code",
   "execution_count": 24,
   "metadata": {},
   "outputs": [
    {
     "name": "stdout",
     "output_type": "stream",
     "text": [
      "[1. 1. 0. 1. 0. 1. 0. 1. 0. 1. 0. 0. 0. 1. 0. 1. 1. 1. 1. 0. 1. 0. 0. 1.\n",
      " 1. 0. 0. 0. 1. 1. 1. 1. 0. 0. 0. 0. 0. 0. 0. 1. 0. 0. 1. 1. 1. 0. 0. 1.\n",
      " 0. 1. 0. 0. 1. 0. 0. 1. 1. 0. 1. 0. 0. 0. 0. 1. 1. 1. 0. 1. 0. 1. 0. 1.\n",
      " 0. 1. 0. 0. 0. 0. 0. 1. 1. 1. 1. 0. 0. 1. 1. 1. 1. 0. 1. 1.]\n"
     ]
    }
   ],
   "source": [
    "# Look at the result\n",
    "print(all)"
   ]
  },
  {
   "cell_type": "code",
   "execution_count": 25,
   "metadata": {},
   "outputs": [
    {
     "data": {
      "text/plain": [
       "45.0"
      ]
     },
     "execution_count": 25,
     "metadata": {},
     "output_type": "execute_result"
    }
   ],
   "source": [
    "# Clearly some state-county pairs have data for all years. How many?\n",
    "all.sum()"
   ]
  },
  {
   "cell_type": "markdown",
   "metadata": {},
   "source": [
    "## Result of multiplying all rows of `isdata` ...\n",
    "According to this test there are 45 Indiana counties which have data in all 92 years. Which counties are they?"
   ]
  },
  {
   "cell_type": "code",
   "execution_count": 26,
   "metadata": {},
   "outputs": [],
   "source": [
    "c92 = []\n",
    "i = 0\n",
    "for c in counties:\n",
    "    if all[i] > 0:\n",
    "        c92.append(c)\n",
    "    i = i + 1"
   ]
  },
  {
   "cell_type": "code",
   "execution_count": 27,
   "metadata": {},
   "outputs": [
    {
     "name": "stdout",
     "output_type": "stream",
     "text": [
      "['ADAMS', 'ALLEN', 'BENTON', 'BOONE', 'CARROLL', 'CLARK', 'DAVIESS', 'DEARBORN', 'DECATUR', 'DELAWARE', 'DUBOIS', 'FAYETTE', 'FRANKLIN', 'FULTON', 'HAMILTON', 'HANCOCK', 'HARRISON', 'HENDRICKS', 'JENNINGS', 'KOSCIUSKO', 'LA PORTE', 'LAGRANGE', 'MADISON', 'MARSHALL', 'MONROE', 'NEWTON', 'NOBLE', 'ORANGE', 'PORTER', 'POSEY', 'PULASKI', 'RANDOLPH', 'RUSH', 'SHELBY', 'ST. JOSEPH', 'TIPTON', 'UNION', 'VANDERBURGH', 'VERMILLION', 'WARREN', 'WARRICK', 'WASHINGTON', 'WAYNE', 'WHITE', 'WHITLEY']\n"
     ]
    }
   ],
   "source": [
    "print(c92)"
   ]
  },
  {
   "cell_type": "markdown",
   "metadata": {},
   "source": [
    "### Let's use these `c92` counties"
   ]
  },
  {
   "cell_type": "markdown",
   "metadata": {},
   "source": [
    "### Getting the data for the restricted state_county pairs set ...\n",
    "In the code block below we want to create a list containing the indices from the entire collection of Indiana counties which correspond to the `c92`"
   ]
  },
  {
   "cell_type": "code",
   "execution_count": 28,
   "metadata": {},
   "outputs": [],
   "source": [
    "rindex = []\n",
    "for c in counties:\n",
    "    if c in c92:\n",
    "        rindex.append(counties.index(c))\n",
    "\n",
    "# This creates the column index set corresponding to the years \n",
    "# for which data is available (which is actually every year)\n",
    "cindex = []\n",
    "for y in years:\n",
    "    cindex.append(years.index(y))"
   ]
  },
  {
   "cell_type": "markdown",
   "metadata": {},
   "source": [
    "## 9. Select a smaller array with continguous data ...\n",
    "Out of the large array of size 92 x 92 containing county average yield data over various years we want to extract the smaller 45 x 92 array containing county average yield data for our selected state, county pairs of interest and our selected years of interest."
   ]
  },
  {
   "cell_type": "code",
   "execution_count": 29,
   "metadata": {},
   "outputs": [],
   "source": [
    "# Select the 45 rows corresponding to the counties of interest\n",
    "\n",
    "###select_ydata = XXX[YYY,ZZZ] # You must change this to get the code to work\n",
    "\n",
    "select_ydata = ydata[rindex,:]"
   ]
  },
  {
   "cell_type": "markdown",
   "metadata": {},
   "source": [
    "### Plot the individual county average yields on the same axis."
   ]
  },
  {
   "cell_type": "code",
   "execution_count": 30,
   "metadata": {},
   "outputs": [
    {
     "data": {
      "image/png": "[encoded data removed]",
      "text/plain": [
       "<Figure size 432x288 with 1 Axes>"
      ]
     },
     "metadata": {
      "needs_background": "light"
     },
     "output_type": "display_data"
    }
   ],
   "source": [
    "fig = plt.figure()\n",
    "plt.style.use('classic')\n",
    "\n",
    "for k in range(select_ydata.shape[0]):\n",
    "    plt.plot(select_ydata[k,:])\n",
    "    \n",
    "plt.title(\"County Average Yields vs. Year\")\n",
    "plt.xlabel(\"Year since 1929\")\n",
    "plt.ylabel(\"Yield (bu/acre)\")\n",
    "plt.grid()"
   ]
  },
  {
   "cell_type": "markdown",
   "metadata": {},
   "source": [
    "## 10. What happened in the year just past 80 in the plot above?\n",
    "\n",
    "## 11. Compute the mean over all the counties in the array `select_ydata`. \n",
    "\n",
    "The resulting mean will still depend on the year, which will allow us to see trend in time."
   ]
  },
  {
   "cell_type": "code",
   "execution_count": 31,
   "metadata": {},
   "outputs": [],
   "source": [
    "###select_ydata_mean = np.XXX(select_ydata,axis=YYY) # Fix this\n",
    "\n",
    "select_ydata_mean = np.mean(select_ydata,axis=0)"
   ]
  },
  {
   "cell_type": "code",
   "execution_count": 32,
   "metadata": {},
   "outputs": [
    {
     "data": {
      "image/png": "[encoded data removed]",
      "text/plain": [
       "<Figure size 640x480 with 1 Axes>"
      ]
     },
     "metadata": {},
     "output_type": "display_data"
    }
   ],
   "source": [
    "fig = plt.figure()\n",
    "plt.style.use('classic')\n",
    "plt.plot(select_ydata_mean,'*')\n",
    "plt.title(\"Mean Yields vs. Year\")\n",
    "plt.xlabel(\"Year since 1929\")\n",
    "plt.ylabel(\"Yield (bu/acre)\")\n",
    "plt.grid()"
   ]
  },
  {
   "cell_type": "markdown",
   "metadata": {},
   "source": [
    "### Straight Line Fitting via Least Squares ...\n",
    "\n",
    "<img align=\"left\" src='FigsData-ASABE/LS-notes-p1.png' width=\"300\"/>\n",
    "<img align=\"left\" src='FigsData-ASABE/LS-notes-p2.png' width=\"300\"/>"
   ]
  },
  {
   "cell_type": "code",
   "execution_count": 33,
   "metadata": {},
   "outputs": [
    {
     "name": "stdout",
     "output_type": "stream",
     "text": [
      "[21.78365747  1.63562859]\n"
     ]
    },
    {
     "data": {
      "text/plain": [
       "[<matplotlib.lines.Line2D at 0x11d857ba8>]"
      ]
     },
     "execution_count": 33,
     "metadata": {},
     "output_type": "execute_result"
    },
    {
     "data": {
      "image/png": "[encoded data removed]",
      "text/plain": [
       "<Figure size 640x480 with 1 Axes>"
      ]
     },
     "metadata": {},
     "output_type": "display_data"
    }
   ],
   "source": [
    "# First lets fit a line to the mean over the counties of \n",
    "# interest and see how that varies over time. The items below \n",
    "# correspond directly to the entries in the LS notes above.\n",
    "\n",
    "y = select_ydata_mean\n",
    "N = len(y)\n",
    "x = range(N) # Remember we are using years starting from 0 in 1929\n",
    "xy = np.multiply(x,y)\n",
    "xx = np.multiply(x,x)\n",
    "xsum = sum(x)\n",
    "ysum = sum(y)\n",
    "xxsum = sum(xx)\n",
    "xysum = sum(xy)\n",
    "\n",
    "A = np.zeros((2,2))\n",
    "A[0,0] = N\n",
    "A[0,1] = xsum\n",
    "A[1,0] = xsum\n",
    "A[1,1] = xxsum\n",
    "\n",
    "b = np.zeros(2)\n",
    "b[0] = ysum\n",
    "b[1] = xysum\n",
    "\n",
    "z = np.linalg.solve(A, b)\n",
    "print(z)\n",
    "\n",
    "# Now plot the best fit line on top of the data\n",
    "fig = plt.figure()\n",
    "plt.style.use('classic')\n",
    "plt.plot(x,y,'*')\n",
    "plt.title(\"Mean of Yields vs. Year\")\n",
    "plt.xlabel(\"Year since 1929\")\n",
    "plt.ylabel(\"Yield (bu/acre)\")\n",
    "plt.grid()\n",
    "yy = z[0] + z[1]*x\n",
    "plt.plot(x,yy)"
   ]
  },
  {
   "cell_type": "markdown",
   "metadata": {},
   "source": [
    "## 12. What is the Yield Improvement Trend in bu/acre per year?\n",
    "\n",
    "There is quite a difference between corn and wheat breeding!\n",
    "\n",
    "## 13. Google to see what you can find on the corn yield improvement trend. Does this data agree with what you find?"
   ]
  },
  {
   "cell_type": "code",
   "execution_count": null,
   "metadata": {},
   "outputs": [],
   "source": []
  },
  {
   "cell_type": "code",
   "execution_count": null,
   "metadata": {},
   "outputs": [],
   "source": []
  },
  {
   "cell_type": "markdown",
   "metadata": {},
   "source": [
    "# My Observations ..."
   ]
  },
  {
   "cell_type": "markdown",
   "metadata": {},
   "source": [
    "# My Impression of Student Reactions ..."
   ]
  },
  {
   "cell_type": "markdown",
   "metadata": {},
   "source": [
    "# To get this working ...\n",
    "\n",
    "Create a github account\n",
    "\n",
    "Go to:\n",
    "\n",
    "<a href=\"https://github.com/jvkrogmeier/Lect-ASABE21-HEC-Presentation\" target=\"_blank\">JVK github repo for ASABE21 Presentation</a>.\n",
    "\n",
    "You may run it via `mybinder.org` but you will need to fork the repo in order to modify, etc."
   ]
  },
  {
   "cell_type": "markdown",
   "metadata": {},
   "source": [
    "# Acknowledgements\n",
    "\n",
    "USDA/NIFA for support (grant number 2020-70003-32299)\n",
    "\n",
    "HEC grant collaborators: D. Saraswat, A. Ault, D. Buckmaster, S. Chaterji, N. A. Knobloch, A. Raturi, and M. D. Ward (Purdue), J. Dvorak, T. Dvorak, and T. B. Mark (U. Kentucky), S. Fall and J. Essamuah- Quansah (Tuskegee)\n",
    "\n",
    "Graduate students who helped: A. Balmos, Y. Wang, S. Jha, F. Castiblanco"
   ]
  },
  {
   "cell_type": "code",
   "execution_count": null,
   "metadata": {},
   "outputs": [],
   "source": []
  }
 ],
 "metadata": {
  "kernelspec": {
   "display_name": "Python 3",
   "language": "python",
   "name": "python3"
  },
  "language_info": {
   "codemirror_mode": {
    "name": "ipython",
    "version": 3
   },
   "file_extension": ".py",
   "mimetype": "text/x-python",
   "name": "python",
   "nbconvert_exporter": "python",
   "pygments_lexer": "ipython3",
   "version": "3.5.6"
  }
 },
 "nbformat": 4,
 "nbformat_minor": 2
}
